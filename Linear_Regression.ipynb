{
  "nbformat": 4,
  "nbformat_minor": 0,
  "metadata": {
    "colab": {
      "provenance": [],
      "authorship_tag": "ABX9TyMMfAU1WmLSo3ANWonMg36C"
    },
    "kernelspec": {
      "name": "python3",
      "display_name": "Python 3"
    },
    "language_info": {
      "name": "python"
    }
  },
  "cells": [
    {
      "cell_type": "markdown",
      "source": [
        "#Linear Regression Class"
      ],
      "metadata": {
        "id": "bcZm0Ze4oKDo"
      }
    },
    {
      "cell_type": "code",
      "execution_count": 1,
      "metadata": {
        "id": "IbvX1iFbbgPp"
      },
      "outputs": [],
      "source": [
        "import numpy as np\n",
        "\n",
        "\n",
        "class LinearRegression:\n",
        "    # y = weight * X + bias\n",
        "\n",
        "    def __init__(self, lr = 0.001, n_iters=1000):\n",
        "        self.lr = lr # learning rate\n",
        "        self.n_iters = n_iters # number of iteration\n",
        "        self.weights = None\n",
        "        self.bias = None\n",
        "\n",
        "    def fit(self, X, y):\n",
        "        n_samples, n_features = X.shape\n",
        "\n",
        "        # Initialize weights and bias\n",
        "        self.weights = np.zeros(n_features)\n",
        "        self.bias = 0\n",
        "\n",
        "        for _ in range(self.n_iters):\n",
        "            y_pred = np.dot(X, self.weights) + self.bias\n",
        "\n",
        "            dw = (1/n_samples) * np.dot(X.T, (y_pred-y))  # T is used to Transpose X\n",
        "            db = (1/n_samples) * np.sum(y_pred-y)\n",
        "\n",
        "            self.weights = self.weights - self.lr * dw\n",
        "            self.bias = self.bias - self.lr * db\n",
        "\n",
        "    def predict(self, X):\n",
        "        y_pred = np.dot(X, self.weights) + self.bias\n",
        "        return y_pred"
      ]
    },
    {
      "cell_type": "markdown",
      "source": [
        "#How to Train data"
      ],
      "metadata": {
        "id": "WYrNBNnLoOzZ"
      }
    },
    {
      "cell_type": "code",
      "source": [
        "import numpy as np\n",
        "from sklearn.model_selection import train_test_split\n",
        "from sklearn import datasets\n",
        "import matplotlib.pyplot as plt\n",
        "from sklearn.metrics import r2_score\n",
        "\n",
        "\n",
        "# Generate synthetic regression data\n",
        "X, y = datasets.make_regression(n_samples=100, n_features=1, noise=20, random_state=1)\n",
        "\n",
        "# Train & Test split\n",
        "X_train, X_test, y_train, y_test = train_test_split(X, y, test_size=0.2, random_state=10)\n",
        "\n",
        "# Train model\n",
        "reg = LinearRegression(lr=0.01, n_iters=1000)\n",
        "reg.fit(X_train, y_train)\n",
        "\n",
        "# Predictions\n",
        "predictions = reg.predict(X_test)\n",
        "\n",
        "# Evaluation\n",
        "mse = np.mean((y_test - predictions) ** 2)\n",
        "r2 = r2_score(y_test, predictions)\n",
        "\n",
        "print(f\"Mean Squared Error: {mse:.2f}\")\n",
        "print(f\"R² Score: {r2:.2f}\")\n",
        "\n",
        "# Plot results\n",
        "plt.figure(figsize=(4,4))\n",
        "plt.scatter(X_train, y_train, color=\"red\", s=10, label=\"Train Data\")\n",
        "plt.scatter(X_test, y_test, color=\"blue\", s=10, label=\"Test Data\")\n",
        "plt.plot(X, reg.predict(X), color=\"black\", linewidth=2, label=\"Prediction\")\n",
        "plt.legend()\n",
        "plt.show()"
      ],
      "metadata": {
        "colab": {
          "base_uri": "https://localhost:8080/",
          "height": 408
        },
        "id": "iXFBcNtyn-yD",
        "outputId": "1c169f5a-6ccd-4c93-8730-d36574b015fe"
      },
      "execution_count": 8,
      "outputs": [
        {
          "output_type": "stream",
          "name": "stdout",
          "text": [
            "Mean Squared Error: 326.70\n",
            "R² Score: 0.95\n"
          ]
        },
        {
          "output_type": "display_data",
          "data": {
            "text/plain": [
              "<Figure size 400x400 with 1 Axes>"
            ],
            "image/png": "[encoded data removed]"
          },
          "metadata": {}
        }
      ]
    }
  ]
}