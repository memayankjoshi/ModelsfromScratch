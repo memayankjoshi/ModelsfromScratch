{
  "nbformat": 4,
  "nbformat_minor": 0,
  "metadata": {
    "colab": {
      "provenance": [],
      "authorship_tag": "ABX9TyM3VO9rR71WXkaTjObbvzJW"
    },
    "kernelspec": {
      "name": "python3",
      "display_name": "Python 3"
    },
    "language_info": {
      "name": "python"
    }
  },
  "cells": [
    {
      "cell_type": "markdown",
      "source": [
        "#Logistic Regression Class\n",
        "\n",
        "\n"
      ],
      "metadata": {
        "id": "Gb8XIue-hjrE"
      }
    },
    {
      "cell_type": "code",
      "execution_count": 18,
      "metadata": {
        "id": "SAB0tXH7hZlB"
      },
      "outputs": [],
      "source": [
        "import numpy as np\n",
        "from sklearn.model_selection import train_test_split\n",
        "from sklearn.datasets import make_classification\n",
        "import matplotlib.pyplot as plt\n",
        "\n",
        "class LogisticRegression:\n",
        "    def __init__(self, lr=0.01, n_iters=1000):\n",
        "        self.lr = lr\n",
        "        self.n_iters = n_iters\n",
        "        self.weights = None\n",
        "        self.bias = None\n",
        "\n",
        "    def sigmoid(self, z):\n",
        "        return 1 / (1 + np.exp(-z))\n",
        "\n",
        "    def compute_loss(self, y, y_pred):\n",
        "        \"\"\"Cross-entropy loss function\"\"\"\n",
        "        n_samples = len(y)\n",
        "        loss = -(1/n_samples) * np.sum(y * np.log(y_pred) + (1 - y) * np.log(1 - y_pred))\n",
        "        return loss\n",
        "\n",
        "\n",
        "    def fit(self, X, y):\n",
        "        n_samples, n_features = X.shape\n",
        "        self.weights = np.zeros(n_features)\n",
        "        self.bias = 0\n",
        "\n",
        "        for _ in range(self.n_iters):\n",
        "            linear_model = np.dot(X, self.weights) + self.bias\n",
        "            y_pred = self.sigmoid(linear_model)\n",
        "\n",
        "            dw = (1 / n_samples) * np.dot(X.T, (y_pred - y))\n",
        "            db = (1 / n_samples) * np.sum(y_pred - y)\n",
        "\n",
        "            self.weights -= self.lr * dw\n",
        "            self.bias -= self.lr * db\n",
        "\n",
        "            # Compute loss for monitoring\n",
        "            if _ % 100 == 0:\n",
        "                loss = self.compute_loss(y, y_pred)\n",
        "                print(f\"Iteration {_}: Loss = {loss:.2f}\")\n",
        "\n",
        "    def predict(self, X):\n",
        "        linear_model = np.dot(X, self.weights) + self.bias\n",
        "        y_pred = self.sigmoid(linear_model)\n",
        "        return np.where(y_pred >= 0.5, 1, 0)  # Convert probabilities to class labels (0 or 1)\n"
      ]
    },
    {
      "cell_type": "markdown",
      "source": [
        "#How to Train data"
      ],
      "metadata": {
        "id": "h_DqzqdGiY7G"
      }
    },
    {
      "cell_type": "code",
      "source": [
        "# Generate synthetic binary classification data\n",
        "X, y = make_classification(n_samples=200, n_features=2,\n",
        "                           n_informative=2, n_redundant=0,\n",
        "                           n_classes=2, random_state=13)\n",
        "# Split into train and test sets\n",
        "X_train, X_test, y_train, y_test = train_test_split(X, y, test_size=0.2, random_state=123)\n",
        "\n",
        "# Train Logistic Regression Model\n",
        "model = LogisticRegression(lr=0.01, n_iters=1000)\n",
        "model.fit(X_train, y_train)\n",
        "\n",
        "# Predictions\n",
        "y_pred = model.predict(X_test)\n",
        "\n",
        "# Compute accuracy\n",
        "accuracy = np.sum(y_pred == y_test)/len(y_pred)\n",
        "print(f\"Accuracy: {accuracy:.2f}\")\n",
        "\n",
        "# Plot decision boundary\n",
        "def plot_decision_boundary(model, X, y):\n",
        "    x_min, x_max = X[:, 0].min() - 1, X[:, 0].max() + 1\n",
        "    y_min, y_max = X[:, 1].min() - 1, X[:, 1].max() + 1\n",
        "    xx, yy = np.meshgrid(np.linspace(x_min, x_max, 100),\n",
        "                         np.linspace(y_min, y_max, 100))\n",
        "    grid = np.c_[xx.ravel(), yy.ravel()]\n",
        "    preds = model.predict(grid).reshape(xx.shape)\n",
        "\n",
        "    plt.contourf(xx, yy, preds, alpha=0.3)\n",
        "    plt.scatter(X[:, 0], X[:, 1], c=y, edgecolor=\"k\")\n",
        "    plt.show()\n",
        "\n",
        "plot_decision_boundary(model, X_test, y_test)"
      ],
      "metadata": {
        "colab": {
          "base_uri": "https://localhost:8080/",
          "height": 621
        },
        "id": "WA5aK5oJiNny",
        "outputId": "9c9e4cf4-a140-4eeb-cf86-e9574c8b4ddd"
      },
      "execution_count": 20,
      "outputs": [
        {
          "output_type": "stream",
          "name": "stdout",
          "text": [
            "Iteration 0: Loss = 0.69\n",
            "Iteration 100: Loss = 0.50\n",
            "Iteration 200: Loss = 0.40\n",
            "Iteration 300: Loss = 0.34\n",
            "Iteration 400: Loss = 0.30\n",
            "Iteration 500: Loss = 0.28\n",
            "Iteration 600: Loss = 0.26\n",
            "Iteration 700: Loss = 0.24\n",
            "Iteration 800: Loss = 0.23\n",
            "Iteration 900: Loss = 0.22\n",
            "Accuracy: 0.95\n"
          ]
        },
        {
          "output_type": "display_data",
          "data": {
            "text/plain": [
              "<Figure size 640x480 with 1 Axes>"
            ],
            "image/png": "[encoded data removed]"
          },
          "metadata": {}
        }
      ]
    },
    {
      "cell_type": "code",
      "source": [],
      "metadata": {
        "id": "oE5r3GrvxTfm"
      },
      "execution_count": 20,
      "outputs": []
    }
  ]
}